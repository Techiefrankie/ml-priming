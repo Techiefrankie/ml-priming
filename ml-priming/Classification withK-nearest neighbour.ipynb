{
 "cells": [
  {
   "cell_type": "markdown",
   "metadata": {},
   "source": [
    "## Implementing classification using k-nearest neighbour algorithm."
   ]
  },
  {
   "cell_type": "code",
   "execution_count": 1,
   "metadata": {},
   "outputs": [],
   "source": [
    "import pandas as pd\n",
    "import numpy as np\n",
    "import sklearn\n",
    "import matplotlib.pyplot as plt\n",
    "import seaborn as sns"
   ]
  },
  {
   "cell_type": "code",
   "execution_count": 2,
   "metadata": {},
   "outputs": [],
   "source": [
    "%matplotlib inline"
   ]
  },
  {
   "cell_type": "code",
   "execution_count": 28,
   "metadata": {},
   "outputs": [
    {
     "data": {
      "text/html": [
       "<div>\n",
       "<style scoped>\n",
       "    .dataframe tbody tr th:only-of-type {\n",
       "        vertical-align: middle;\n",
       "    }\n",
       "\n",
       "    .dataframe tbody tr th {\n",
       "        vertical-align: top;\n",
       "    }\n",
       "\n",
       "    .dataframe thead th {\n",
       "        text-align: right;\n",
       "    }\n",
       "</style>\n",
       "<table border=\"1\" class=\"dataframe\">\n",
       "  <thead>\n",
       "    <tr style=\"text-align: right;\">\n",
       "      <th></th>\n",
       "      <th>WTT</th>\n",
       "      <th>PTI</th>\n",
       "      <th>EQW</th>\n",
       "      <th>SBI</th>\n",
       "      <th>LQE</th>\n",
       "      <th>QWG</th>\n",
       "      <th>FDJ</th>\n",
       "      <th>PJF</th>\n",
       "      <th>HQE</th>\n",
       "      <th>NXJ</th>\n",
       "      <th>TARGET CLASS</th>\n",
       "    </tr>\n",
       "  </thead>\n",
       "  <tbody>\n",
       "    <tr>\n",
       "      <th>0</th>\n",
       "      <td>0.913917</td>\n",
       "      <td>1.162073</td>\n",
       "      <td>0.567946</td>\n",
       "      <td>0.755464</td>\n",
       "      <td>0.780862</td>\n",
       "      <td>0.352608</td>\n",
       "      <td>0.759697</td>\n",
       "      <td>0.643798</td>\n",
       "      <td>0.879422</td>\n",
       "      <td>1.231409</td>\n",
       "      <td>1</td>\n",
       "    </tr>\n",
       "    <tr>\n",
       "      <th>1</th>\n",
       "      <td>0.635632</td>\n",
       "      <td>1.003722</td>\n",
       "      <td>0.535342</td>\n",
       "      <td>0.825645</td>\n",
       "      <td>0.924109</td>\n",
       "      <td>0.648450</td>\n",
       "      <td>0.675334</td>\n",
       "      <td>1.013546</td>\n",
       "      <td>0.621552</td>\n",
       "      <td>1.492702</td>\n",
       "      <td>0</td>\n",
       "    </tr>\n",
       "    <tr>\n",
       "      <th>2</th>\n",
       "      <td>0.721360</td>\n",
       "      <td>1.201493</td>\n",
       "      <td>0.921990</td>\n",
       "      <td>0.855595</td>\n",
       "      <td>1.526629</td>\n",
       "      <td>0.720781</td>\n",
       "      <td>1.626351</td>\n",
       "      <td>1.154483</td>\n",
       "      <td>0.957877</td>\n",
       "      <td>1.285597</td>\n",
       "      <td>0</td>\n",
       "    </tr>\n",
       "    <tr>\n",
       "      <th>3</th>\n",
       "      <td>1.234204</td>\n",
       "      <td>1.386726</td>\n",
       "      <td>0.653046</td>\n",
       "      <td>0.825624</td>\n",
       "      <td>1.142504</td>\n",
       "      <td>0.875128</td>\n",
       "      <td>1.409708</td>\n",
       "      <td>1.380003</td>\n",
       "      <td>1.522692</td>\n",
       "      <td>1.153093</td>\n",
       "      <td>1</td>\n",
       "    </tr>\n",
       "    <tr>\n",
       "      <th>4</th>\n",
       "      <td>1.279491</td>\n",
       "      <td>0.949750</td>\n",
       "      <td>0.627280</td>\n",
       "      <td>0.668976</td>\n",
       "      <td>1.232537</td>\n",
       "      <td>0.703727</td>\n",
       "      <td>1.115596</td>\n",
       "      <td>0.646691</td>\n",
       "      <td>1.463812</td>\n",
       "      <td>1.419167</td>\n",
       "      <td>1</td>\n",
       "    </tr>\n",
       "  </tbody>\n",
       "</table>\n",
       "</div>"
      ],
      "text/plain": [
       "        WTT       PTI       EQW       SBI       LQE       QWG       FDJ  \\\n",
       "0  0.913917  1.162073  0.567946  0.755464  0.780862  0.352608  0.759697   \n",
       "1  0.635632  1.003722  0.535342  0.825645  0.924109  0.648450  0.675334   \n",
       "2  0.721360  1.201493  0.921990  0.855595  1.526629  0.720781  1.626351   \n",
       "3  1.234204  1.386726  0.653046  0.825624  1.142504  0.875128  1.409708   \n",
       "4  1.279491  0.949750  0.627280  0.668976  1.232537  0.703727  1.115596   \n",
       "\n",
       "        PJF       HQE       NXJ  TARGET CLASS  \n",
       "0  0.643798  0.879422  1.231409             1  \n",
       "1  1.013546  0.621552  1.492702             0  \n",
       "2  1.154483  0.957877  1.285597             0  \n",
       "3  1.380003  1.522692  1.153093             1  \n",
       "4  0.646691  1.463812  1.419167             1  "
      ]
     },
     "execution_count": 28,
     "metadata": {},
     "output_type": "execute_result"
    }
   ],
   "source": [
    "# read dataset\n",
    "\n",
    "raw_data = pd.read_csv('datasets/classified_data.csv', index_col=0)\n",
    "raw_data.head()"
   ]
  },
  {
   "cell_type": "code",
   "execution_count": 29,
   "metadata": {},
   "outputs": [
    {
     "data": {
      "text/plain": [
       "Index(['WTT', 'PTI', 'EQW', 'SBI', 'LQE', 'QWG', 'FDJ', 'PJF', 'HQE', 'NXJ',\n",
       "       'TARGET CLASS'],\n",
       "      dtype='object')"
      ]
     },
     "execution_count": 29,
     "metadata": {},
     "output_type": "execute_result"
    }
   ],
   "source": [
    "# explore dataset\n",
    "raw_data.columns"
   ]
  },
  {
   "cell_type": "code",
   "execution_count": 34,
   "metadata": {},
   "outputs": [],
   "source": [
    "# standardizing dataset\n",
    "from sklearn.preprocessing import StandardScaler\n",
    "scaler = StandardScaler()\n",
    "raw_data_scale = raw_data.drop('TARGET CLASS', axis=1)\n",
    "scaler.fit(raw_data_scale)\n",
    "scaled_features = scaler.transform(raw_data_scale)"
   ]
  },
  {
   "cell_type": "code",
   "execution_count": 35,
   "metadata": {},
   "outputs": [],
   "source": [
    "df_scaled_features = pd.DataFrame(scaled_features, columns=raw_data_scale.columns)"
   ]
  },
  {
   "cell_type": "code",
   "execution_count": 36,
   "metadata": {},
   "outputs": [
    {
     "data": {
      "text/html": [
       "<div>\n",
       "<style scoped>\n",
       "    .dataframe tbody tr th:only-of-type {\n",
       "        vertical-align: middle;\n",
       "    }\n",
       "\n",
       "    .dataframe tbody tr th {\n",
       "        vertical-align: top;\n",
       "    }\n",
       "\n",
       "    .dataframe thead th {\n",
       "        text-align: right;\n",
       "    }\n",
       "</style>\n",
       "<table border=\"1\" class=\"dataframe\">\n",
       "  <thead>\n",
       "    <tr style=\"text-align: right;\">\n",
       "      <th></th>\n",
       "      <th>WTT</th>\n",
       "      <th>PTI</th>\n",
       "      <th>EQW</th>\n",
       "      <th>SBI</th>\n",
       "      <th>LQE</th>\n",
       "      <th>QWG</th>\n",
       "      <th>FDJ</th>\n",
       "      <th>PJF</th>\n",
       "      <th>HQE</th>\n",
       "      <th>NXJ</th>\n",
       "    </tr>\n",
       "  </thead>\n",
       "  <tbody>\n",
       "    <tr>\n",
       "      <th>115</th>\n",
       "      <td>0.734132</td>\n",
       "      <td>0.450895</td>\n",
       "      <td>-0.737000</td>\n",
       "      <td>-1.329856</td>\n",
       "      <td>-1.306651</td>\n",
       "      <td>-0.421222</td>\n",
       "      <td>-0.670239</td>\n",
       "      <td>-0.106227</td>\n",
       "      <td>0.222325</td>\n",
       "      <td>0.325973</td>\n",
       "    </tr>\n",
       "    <tr>\n",
       "      <th>542</th>\n",
       "      <td>-0.371097</td>\n",
       "      <td>-0.542766</td>\n",
       "      <td>-0.994677</td>\n",
       "      <td>-0.640001</td>\n",
       "      <td>-0.203254</td>\n",
       "      <td>-1.187624</td>\n",
       "      <td>-0.824470</td>\n",
       "      <td>-2.064350</td>\n",
       "      <td>-0.168938</td>\n",
       "      <td>-0.454282</td>\n",
       "    </tr>\n",
       "    <tr>\n",
       "      <th>30</th>\n",
       "      <td>1.459227</td>\n",
       "      <td>0.022922</td>\n",
       "      <td>-1.248902</td>\n",
       "      <td>1.217233</td>\n",
       "      <td>-0.225774</td>\n",
       "      <td>-0.206675</td>\n",
       "      <td>1.263405</td>\n",
       "      <td>-0.581566</td>\n",
       "      <td>0.694093</td>\n",
       "      <td>1.039779</td>\n",
       "    </tr>\n",
       "    <tr>\n",
       "      <th>745</th>\n",
       "      <td>1.084927</td>\n",
       "      <td>-0.567965</td>\n",
       "      <td>-0.446826</td>\n",
       "      <td>1.312050</td>\n",
       "      <td>0.472146</td>\n",
       "      <td>-2.482569</td>\n",
       "      <td>-0.829051</td>\n",
       "      <td>-0.111645</td>\n",
       "      <td>1.150151</td>\n",
       "      <td>-0.901141</td>\n",
       "    </tr>\n",
       "    <tr>\n",
       "      <th>546</th>\n",
       "      <td>-0.949773</td>\n",
       "      <td>0.415452</td>\n",
       "      <td>1.060311</td>\n",
       "      <td>-1.964569</td>\n",
       "      <td>0.522444</td>\n",
       "      <td>1.644832</td>\n",
       "      <td>0.314463</td>\n",
       "      <td>0.523701</td>\n",
       "      <td>-0.445577</td>\n",
       "      <td>-1.035327</td>\n",
       "    </tr>\n",
       "    <tr>\n",
       "      <th>95</th>\n",
       "      <td>0.140262</td>\n",
       "      <td>-0.708341</td>\n",
       "      <td>0.920820</td>\n",
       "      <td>0.426232</td>\n",
       "      <td>-0.722959</td>\n",
       "      <td>-1.088299</td>\n",
       "      <td>-0.153452</td>\n",
       "      <td>-0.238647</td>\n",
       "      <td>2.477734</td>\n",
       "      <td>-1.211352</td>\n",
       "    </tr>\n",
       "    <tr>\n",
       "      <th>74</th>\n",
       "      <td>1.078004</td>\n",
       "      <td>0.714469</td>\n",
       "      <td>-0.238553</td>\n",
       "      <td>-0.022653</td>\n",
       "      <td>0.717919</td>\n",
       "      <td>-1.512205</td>\n",
       "      <td>-1.761978</td>\n",
       "      <td>-0.056592</td>\n",
       "      <td>0.976897</td>\n",
       "      <td>-1.394416</td>\n",
       "    </tr>\n",
       "    <tr>\n",
       "      <th>374</th>\n",
       "      <td>1.183732</td>\n",
       "      <td>0.415738</td>\n",
       "      <td>-0.323440</td>\n",
       "      <td>-0.104144</td>\n",
       "      <td>0.296475</td>\n",
       "      <td>-0.797141</td>\n",
       "      <td>-1.385640</td>\n",
       "      <td>-1.009630</td>\n",
       "      <td>1.420135</td>\n",
       "      <td>-0.469529</td>\n",
       "    </tr>\n",
       "    <tr>\n",
       "      <th>587</th>\n",
       "      <td>-0.539384</td>\n",
       "      <td>0.508360</td>\n",
       "      <td>0.519651</td>\n",
       "      <td>-1.539105</td>\n",
       "      <td>1.250789</td>\n",
       "      <td>1.848772</td>\n",
       "      <td>-0.043866</td>\n",
       "      <td>0.857721</td>\n",
       "      <td>-0.209402</td>\n",
       "      <td>-0.728662</td>\n",
       "    </tr>\n",
       "    <tr>\n",
       "      <th>207</th>\n",
       "      <td>-1.231630</td>\n",
       "      <td>0.822311</td>\n",
       "      <td>0.852935</td>\n",
       "      <td>0.616812</td>\n",
       "      <td>-0.356363</td>\n",
       "      <td>-0.996390</td>\n",
       "      <td>2.434575</td>\n",
       "      <td>0.099380</td>\n",
       "      <td>-1.691752</td>\n",
       "      <td>-0.048159</td>\n",
       "    </tr>\n",
       "  </tbody>\n",
       "</table>\n",
       "</div>"
      ],
      "text/plain": [
       "          WTT       PTI       EQW       SBI       LQE       QWG       FDJ  \\\n",
       "115  0.734132  0.450895 -0.737000 -1.329856 -1.306651 -0.421222 -0.670239   \n",
       "542 -0.371097 -0.542766 -0.994677 -0.640001 -0.203254 -1.187624 -0.824470   \n",
       "30   1.459227  0.022922 -1.248902  1.217233 -0.225774 -0.206675  1.263405   \n",
       "745  1.084927 -0.567965 -0.446826  1.312050  0.472146 -2.482569 -0.829051   \n",
       "546 -0.949773  0.415452  1.060311 -1.964569  0.522444  1.644832  0.314463   \n",
       "95   0.140262 -0.708341  0.920820  0.426232 -0.722959 -1.088299 -0.153452   \n",
       "74   1.078004  0.714469 -0.238553 -0.022653  0.717919 -1.512205 -1.761978   \n",
       "374  1.183732  0.415738 -0.323440 -0.104144  0.296475 -0.797141 -1.385640   \n",
       "587 -0.539384  0.508360  0.519651 -1.539105  1.250789  1.848772 -0.043866   \n",
       "207 -1.231630  0.822311  0.852935  0.616812 -0.356363 -0.996390  2.434575   \n",
       "\n",
       "          PJF       HQE       NXJ  \n",
       "115 -0.106227  0.222325  0.325973  \n",
       "542 -2.064350 -0.168938 -0.454282  \n",
       "30  -0.581566  0.694093  1.039779  \n",
       "745 -0.111645  1.150151 -0.901141  \n",
       "546  0.523701 -0.445577 -1.035327  \n",
       "95  -0.238647  2.477734 -1.211352  \n",
       "74  -0.056592  0.976897 -1.394416  \n",
       "374 -1.009630  1.420135 -0.469529  \n",
       "587  0.857721 -0.209402 -0.728662  \n",
       "207  0.099380 -1.691752 -0.048159  "
      ]
     },
     "execution_count": 36,
     "metadata": {},
     "output_type": "execute_result"
    }
   ],
   "source": [
    "df_scaled_features.sample(10)"
   ]
  },
  {
   "cell_type": "code",
   "execution_count": 38,
   "metadata": {},
   "outputs": [],
   "source": [
    "\n",
    "# split data into training and test\n",
    "from sklearn.model_selection import train_test_split\n",
    "x = df_scaled_features\n",
    "y = raw_data['TARGET CLASS']\n",
    "\n",
    "x_train, x_test, y_train, y_test = train_test_split(x, y, test_size=0.2)"
   ]
  },
  {
   "cell_type": "code",
   "execution_count": 43,
   "metadata": {},
   "outputs": [
    {
     "data": {
      "text/plain": [
       "KNeighborsClassifier(algorithm='auto', leaf_size=30, metric='minkowski',\n",
       "                     metric_params=None, n_jobs=None, n_neighbors=1, p=2,\n",
       "                     weights='uniform')"
      ]
     },
     "execution_count": 43,
     "metadata": {},
     "output_type": "execute_result"
    }
   ],
   "source": [
    "# train model\n",
    "from sklearn.neighbors import KNeighborsClassifier\n",
    "model = KNeighborsClassifier(n_neighbors=1)\n",
    "model.fit(x_train, y_train)"
   ]
  },
  {
   "cell_type": "code",
   "execution_count": 44,
   "metadata": {},
   "outputs": [],
   "source": [
    "# make predictions\n",
    "predictions = model.predict(x_test)"
   ]
  },
  {
   "cell_type": "code",
   "execution_count": 46,
   "metadata": {},
   "outputs": [],
   "source": [
    "# measure prediction accuracy\n",
    "from sklearn.metrics import classification_report\n",
    "from sklearn.metrics import confusion_matrix"
   ]
  },
  {
   "cell_type": "code",
   "execution_count": 47,
   "metadata": {},
   "outputs": [
    {
     "name": "stdout",
     "output_type": "stream",
     "text": [
      "              precision    recall  f1-score   support\n",
      "\n",
      "           0       0.85      0.92      0.88        89\n",
      "           1       0.93      0.86      0.90       111\n",
      "\n",
      "    accuracy                           0.89       200\n",
      "   macro avg       0.89      0.89      0.89       200\n",
      "weighted avg       0.89      0.89      0.89       200\n",
      "\n"
     ]
    }
   ],
   "source": [
    "print(classification_report(y_test, predictions))"
   ]
  },
  {
   "cell_type": "code",
   "execution_count": 48,
   "metadata": {},
   "outputs": [
    {
     "name": "stdout",
     "output_type": "stream",
     "text": [
      "[[82  7]\n",
      " [15 96]]\n"
     ]
    }
   ],
   "source": [
    "print(confusion_matrix(y_test, predictions))"
   ]
  },
  {
   "cell_type": "code",
   "execution_count": 52,
   "metadata": {},
   "outputs": [],
   "source": [
    "# choosing optimal k value using the Elbow method\n",
    "error_rates = []\n",
    "for i in np.arange(1, 101):\n",
    "\n",
    "    new_model = KNeighborsClassifier(n_neighbors = i)\n",
    "\n",
    "    new_model.fit(x_train, y_train)\n",
    "\n",
    "    new_predictions = new_model.predict(x_test)\n",
    "\n",
    "    error_rates.append(np.mean(new_predictions != y_test))"
   ]
  },
  {
   "cell_type": "code",
   "execution_count": 53,
   "metadata": {},
   "outputs": [
    {
     "data": {
      "text/plain": [
       "[<matplotlib.lines.Line2D at 0x1a18f7fa50>]"
      ]
     },
     "execution_count": 53,
     "metadata": {},
     "output_type": "execute_result"
    },
    {
     "data": {
      "image/png": "[encoded data removed]",
      "text/plain": [
       "<Figure size 432x288 with 1 Axes>"
      ]
     },
     "metadata": {
      "needs_background": "light"
     },
     "output_type": "display_data"
    }
   ],
   "source": [
    "# visualize error rates\n",
    "plt.plot(error_rates)"
   ]
  },
  {
   "cell_type": "code",
   "execution_count": null,
   "metadata": {},
   "outputs": [],
   "source": []
  }
 ],
 "metadata": {
  "kernelspec": {
   "display_name": "Python 3",
   "language": "python",
   "name": "python3"
  },
  "language_info": {
   "codemirror_mode": {
    "name": "ipython",
    "version": 3
   },
   "file_extension": ".py",
   "mimetype": "text/x-python",
   "name": "python",
   "nbconvert_exporter": "python",
   "pygments_lexer": "ipython3",
   "version": "3.7.6"
  }
 },
 "nbformat": 4,
 "nbformat_minor": 4
}
